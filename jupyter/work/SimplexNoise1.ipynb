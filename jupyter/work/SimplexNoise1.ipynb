{
 "cells": [
  {
   "cell_type": "code",
   "execution_count": 1,
   "id": "a78fbacb",
   "metadata": {},
   "outputs": [],
   "source": [
    "import sys\n",
    "import math\n",
    "\n",
    "from PIL import Image\n",
    "\n",
    "import numpy as np\n",
    "from bisect import bisect_left\n",
    "\n",
    "import matplotlib.pyplot as plt\n",
    "from matplotlib.colors import ListedColormap\n",
    "from matplotlib import cm\n",
    "\n",
    "# This import registers the 3D projection, but is otherwise unused.\n",
    "from mpl_toolkits.mplot3d import Axes3D\n",
    "\n",
    "from pprint import pprint"
   ]
  },
  {
   "cell_type": "code",
   "execution_count": 2,
   "id": "7fa4add2",
   "metadata": {},
   "outputs": [],
   "source": [
    "# https://github.com/lmas/opensimplex\n",
    "# https://github.com/KdotJPG/OpenSimplex2\n",
    "# https://gist.github.com/kdotjpg/b1270127455a94ac5d19\n",
    "\n",
    "import opensimplex"
   ]
  },
  {
   "cell_type": "code",
   "execution_count": 3,
   "id": "76de82f7",
   "metadata": {},
   "outputs": [
    {
     "name": "stdout",
     "output_type": "stream",
     "text": [
      "0.580279369186297\n"
     ]
    }
   ],
   "source": [
    "opensimplex.seed(1234)\n",
    "n = opensimplex.noise2(x=10, y=10)\n",
    "print(n)"
   ]
  },
  {
   "cell_type": "code",
   "execution_count": 4,
   "id": "7e4765c0",
   "metadata": {},
   "outputs": [
    {
     "data": {
      "image/png": "[encoded data removed]",
      "text/plain": [
       "<Figure size 432x288 with 1 Axes>"
      ]
     },
     "metadata": {
      "needs_background": "light"
     },
     "output_type": "display_data"
    }
   ],
   "source": [
    "img_w = 50\n",
    "img_h = 50\n",
    "\n",
    "img = Image.new('RGBA', (img_w, img_h), (0, 0, 0, 0))\n",
    "pixels = img.load()\n",
    "\n",
    "for x in range(img_w):\n",
    "    for y in range(img_h):\n",
    "        h = opensimplex.noise2(x=x*10/img_w, y=y*10/img_h) * 127 + 128\n",
    "        r = h\n",
    "        g = h\n",
    "        b = h\n",
    "        pixels[x, y] = ( int(r), int(g), int(b), int(255) )\n",
    "\n",
    "plt.imshow(img)\n",
    "plt.show()"
   ]
  },
  {
   "cell_type": "code",
   "execution_count": null,
   "id": "dd7db1fd",
   "metadata": {},
   "outputs": [],
   "source": []
  }
 ],
 "metadata": {
  "kernelspec": {
   "display_name": "Python 3 (ipykernel)",
   "language": "python",
   "name": "python3"
  },
  "language_info": {
   "codemirror_mode": {
    "name": "ipython",
    "version": 3
   },
   "file_extension": ".py",
   "mimetype": "text/x-python",
   "name": "python",
   "nbconvert_exporter": "python",
   "pygments_lexer": "ipython3",
   "version": "3.9.7"
  }
 },
 "nbformat": 4,
 "nbformat_minor": 5
}
